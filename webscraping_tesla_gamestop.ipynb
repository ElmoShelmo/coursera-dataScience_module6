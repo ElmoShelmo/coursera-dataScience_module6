{
  "metadata": {
    "kernelspec": {
      "name": "python",
      "display_name": "Python (Pyodide)",
      "language": "python"
    },
    "language_info": {
      "codemirror_mode": {
        "name": "python",
        "version": 3
      },
      "file_extension": ".py",
      "mimetype": "text/x-python",
      "name": "python",
      "nbconvert_exporter": "python",
      "pygments_lexer": "ipython3",
      "version": "3.8"
    }
  },
  "nbformat_minor": 5,
  "nbformat": 4,
  "cells": [
    {
      "id": "b820d88f-5872-42c3-a1e6-cb58d280eb3e",
      "cell_type": "code",
      "source": "!pip install yfinance\n!pip install matplotlib\n\nimport yfinance as yf\nimport pandas as pd",
      "metadata": {
        "trusted": true
      },
      "outputs": [
        {
          "ename": "<class 'OSError'>",
          "evalue": "Not available",
          "traceback": [
            "\u001b[0;31m---------------------------------------------------------------------------\u001b[0m",
            "\u001b[0;31mOSError\u001b[0m                                   Traceback (most recent call last)",
            "Cell \u001b[0;32mIn[23], line 1\u001b[0m\n\u001b[0;32m----> 1\u001b[0m \u001b[43mget_ipython\u001b[49m\u001b[43m(\u001b[49m\u001b[43m)\u001b[49m\u001b[38;5;241;43m.\u001b[39;49m\u001b[43msystem\u001b[49m\u001b[43m(\u001b[49m\u001b[38;5;124;43m'\u001b[39;49m\u001b[38;5;124;43mpip install yfinance\u001b[39;49m\u001b[38;5;124;43m'\u001b[39;49m\u001b[43m)\u001b[49m\n\u001b[1;32m      2\u001b[0m get_ipython()\u001b[38;5;241m.\u001b[39msystem(\u001b[38;5;124m'\u001b[39m\u001b[38;5;124mpip install matplotlib\u001b[39m\u001b[38;5;124m'\u001b[39m)\n\u001b[1;32m      4\u001b[0m \u001b[38;5;28;01mimport\u001b[39;00m \u001b[38;5;21;01myfinance\u001b[39;00m \u001b[38;5;28;01mas\u001b[39;00m \u001b[38;5;21;01myf\u001b[39;00m\n",
            "File \u001b[0;32m/lib/python3.12/site-packages/IPython/core/interactiveshell.py:2653\u001b[0m, in \u001b[0;36mInteractiveShell.system_piped\u001b[0;34m(self, cmd)\u001b[0m\n\u001b[1;32m   2648\u001b[0m     \u001b[38;5;28;01mraise\u001b[39;00m \u001b[38;5;167;01mOSError\u001b[39;00m(\u001b[38;5;124m\"\u001b[39m\u001b[38;5;124mBackground processes not supported.\u001b[39m\u001b[38;5;124m\"\u001b[39m)\n\u001b[1;32m   2650\u001b[0m \u001b[38;5;66;03m# we explicitly do NOT return the subprocess status code, because\u001b[39;00m\n\u001b[1;32m   2651\u001b[0m \u001b[38;5;66;03m# a non-None value would trigger :func:`sys.displayhook` calls.\u001b[39;00m\n\u001b[1;32m   2652\u001b[0m \u001b[38;5;66;03m# Instead, we store the exit_code in user_ns.\u001b[39;00m\n\u001b[0;32m-> 2653\u001b[0m \u001b[38;5;28mself\u001b[39m\u001b[38;5;241m.\u001b[39muser_ns[\u001b[38;5;124m'\u001b[39m\u001b[38;5;124m_exit_code\u001b[39m\u001b[38;5;124m'\u001b[39m] \u001b[38;5;241m=\u001b[39m \u001b[43msystem\u001b[49m\u001b[43m(\u001b[49m\u001b[38;5;28;43mself\u001b[39;49m\u001b[38;5;241;43m.\u001b[39;49m\u001b[43mvar_expand\u001b[49m\u001b[43m(\u001b[49m\u001b[43mcmd\u001b[49m\u001b[43m,\u001b[49m\u001b[43m \u001b[49m\u001b[43mdepth\u001b[49m\u001b[38;5;241;43m=\u001b[39;49m\u001b[38;5;241;43m1\u001b[39;49m\u001b[43m)\u001b[49m\u001b[43m)\u001b[49m\n",
            "File \u001b[0;32m/lib/python3.12/site-packages/IPython/utils/_process_emscripten.py:11\u001b[0m, in \u001b[0;36msystem\u001b[0;34m(cmd)\u001b[0m\n\u001b[1;32m     10\u001b[0m \u001b[38;5;28;01mdef\u001b[39;00m \u001b[38;5;21msystem\u001b[39m(cmd):\n\u001b[0;32m---> 11\u001b[0m     \u001b[38;5;28;01mraise\u001b[39;00m \u001b[38;5;167;01mOSError\u001b[39;00m(\u001b[38;5;124m\"\u001b[39m\u001b[38;5;124mNot available\u001b[39m\u001b[38;5;124m\"\u001b[39m)\n",
            "\u001b[0;31mOSError\u001b[0m: Not available"
          ],
          "output_type": "error"
        }
      ],
      "execution_count": 23
    },
    {
      "id": "73355112-5e45-4cc3-b133-a29d363ffc38",
      "cell_type": "code",
      "source": "# Tassk 1 \n\n# Tesla\ntesla = yf.Ticker(\"TSLA\")\ntesla_data = tesla.history(period=\"1mo\")  # Letzter Monat\n\n# show data\nprint(\"Tesla Data:\")\nprint(tesla_data.head())\n\n",
      "metadata": {
        "trusted": true
      },
      "outputs": [
        {
          "ename": "<class 'NameError'>",
          "evalue": "name 'yf' is not defined",
          "traceback": [
            "\u001b[0;31m---------------------------------------------------------------------------\u001b[0m",
            "\u001b[0;31mNameError\u001b[0m                                 Traceback (most recent call last)",
            "Cell \u001b[0;32mIn[24], line 4\u001b[0m\n\u001b[1;32m      1\u001b[0m \u001b[38;5;66;03m# Tassk 1 \u001b[39;00m\n\u001b[1;32m      2\u001b[0m \n\u001b[1;32m      3\u001b[0m \u001b[38;5;66;03m# Tesla\u001b[39;00m\n\u001b[0;32m----> 4\u001b[0m tesla \u001b[38;5;241m=\u001b[39m \u001b[43myf\u001b[49m\u001b[38;5;241m.\u001b[39mTicker(\u001b[38;5;124m\"\u001b[39m\u001b[38;5;124mTSLA\u001b[39m\u001b[38;5;124m\"\u001b[39m)\n\u001b[1;32m      5\u001b[0m tesla_data \u001b[38;5;241m=\u001b[39m tesla\u001b[38;5;241m.\u001b[39mhistory(period\u001b[38;5;241m=\u001b[39m\u001b[38;5;124m\"\u001b[39m\u001b[38;5;124m1mo\u001b[39m\u001b[38;5;124m\"\u001b[39m)  \u001b[38;5;66;03m# Letzter Monat\u001b[39;00m\n\u001b[1;32m      7\u001b[0m \u001b[38;5;66;03m# show data\u001b[39;00m\n",
            "\u001b[0;31mNameError\u001b[0m: name 'yf' is not defined"
          ],
          "output_type": "error"
        }
      ],
      "execution_count": 24
    },
    {
      "id": "828c06db-cbb1-4822-a55b-0656f4aa9b59",
      "cell_type": "code",
      "source": "# Task 2:\nimport requests\nfrom bs4 import BeautifulSoup\n\ndef scrape_revenue(ticker):\n    url = f\"https://www.macrotrends.net/stocks/charts/{ticker}/tesla/revenue\"\n    headers = {\"User-Agent\": \"Mozilla/5.0\"}\n    response = requests.get(url, headers=headers)\n    soup = BeautifulSoup(response.text, 'html.parser')\n\n    tables = soup.find_all(\"table\")\n    if not tables:\n        return \"Keine Tabelle gefunden\"\n\n    for table in tables:\n        if \"Revenue\" in table.text:\n            df = pd.read_html(str(table))[0]\n            return df\n    return \"Keine Revenue-Tabelle gefunden\"\n\ntesla_revenue = scrape_revenue(\"TSLA\")\nprint(tesla_revenue.head())",
      "metadata": {
        "trusted": true
      },
      "outputs": [],
      "execution_count": null
    },
    {
      "id": "a248afdb-758e-4880-bd6f-2180168e3e98",
      "cell_type": "code",
      "source": "# Tassk 3\n\n# GameStop\ngamestop = yf.Ticker(\"GME\")\ngamestop_data = gamestop.history(period=\"1mo\")\n\n# show data\nprint(\"GameStop Daten:\")\nprint(gamestop_data.head())",
      "metadata": {
        "trusted": true
      },
      "outputs": [],
      "execution_count": null
    },
    {
      "id": "b466f7a6-c491-4010-aa37-689364a55c7b",
      "cell_type": "code",
      "source": "# Task 4\nimport requests\nfrom bs4 import BeautifulSoup\n\ndef scrape_revenue(ticker):\n    url = f\"https://www.macrotrends.net/stocks/charts/{ticker}/tesla/revenue\"\n    headers = {\"User-Agent\": \"Mozilla/5.0\"}\n    response = requests.get(url, headers=headers)\n    soup = BeautifulSoup(response.text, 'html.parser')\n\n    tables = soup.find_all(\"table\")\n    if not tables:\n        return \"Keine Tabelle gefunden\"\n\n    for table in tables:\n        if \"Revenue\" in table.text:\n            df = pd.read_html(str(table))[0]\n            return df\n    return \"Keine Revenue-Tabelle gefunden\"\n\n# GameStop Umsatzdaten\ngamestop_revenue = scrape_revenue(\"GME\")\nprint(gamestop_revenue.head())\n",
      "metadata": {
        "trusted": true
      },
      "outputs": [],
      "execution_count": null
    },
    {
      "id": "2eba4a80-4f44-4656-b372-6fb1b2014a27",
      "cell_type": "code",
      "source": "# Task 5\nimport plotly.graph_objs as go\n\ndef plot_dashboard(price_data, revenue_data, company_name):\n    fig = go.Figure()\n    \n    # Aktienkurs\n    fig.add_trace(go.Scatter(x=price_data.index, y=price_data[\"Close\"],\n                             mode='lines', name='Aktienkurs'))\n\n    # Umsatzdaten (nur, wenn verfügbar)\n    if isinstance(revenue_data, pd.DataFrame) and 'Revenue' in revenue_data.columns:\n        fig.add_trace(go.Bar(x=revenue_data['Date'], y=revenue_data['Revenue'],\n                             name='Umsatz', yaxis='y2'))\n\n    fig.update_layout(\n        title=f'{company_name} Aktie & Umsatz',\n        xaxis_title='Datum',\n        yaxis=dict(title='Aktienkurs'),\n        yaxis2=dict(title='Umsatz', overlaying='y', side='right'),\n        legend=dict(x=0, y=1)\n    )\n    fig.show()\n\n\nplot_dashboard(tesla_data, tesla_revenue, \"Tesla\")\n",
      "metadata": {
        "trusted": true
      },
      "outputs": [],
      "execution_count": null
    },
    {
      "id": "81d7d742-5be9-4aaa-a518-82e820d2935e",
      "cell_type": "code",
      "source": "# Task 5\nimport plotly.graph_objs as go\n\ndef plot_dashboard(price_data, revenue_data, company_name):\n    fig = go.Figure()\n    \n    # Aktienkurs\n    fig.add_trace(go.Scatter(x=price_data.index, y=price_data[\"Close\"],\n                             mode='lines', name='Aktienkurs'))\n\n    # Umsatzdaten (nur, wenn verfügbar)\n    if isinstance(revenue_data, pd.DataFrame) and 'Revenue' in revenue_data.columns:\n        fig.add_trace(go.Bar(x=revenue_data['Date'], y=revenue_data['Revenue'],\n                             name='Umsatz', yaxis='y2'))\n\n    fig.update_layout(\n        title=f'{company_name} Aktie & Umsatz',\n        xaxis_title='Datum',\n        yaxis=dict(title='Aktienkurs'),\n        yaxis2=dict(title='Umsatz', overlaying='y', side='right'),\n        legend=dict(x=0, y=1)\n    )\n    fig.show()\n\n\nplot_dashboard(gamestop_data, gamestop_revenue, \"Gamestop\")\n",
      "metadata": {
        "trusted": true
      },
      "outputs": [],
      "execution_count": null
    }
  ]
}
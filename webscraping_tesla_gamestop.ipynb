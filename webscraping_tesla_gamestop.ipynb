{
  "metadata": {
    "kernelspec": {
      "name": "python",
      "display_name": "Python (Pyodide)",
      "language": "python"
    },
    "language_info": {
      "codemirror_mode": {
        "name": "python",
        "version": 3
      },
      "file_extension": ".py",
      "mimetype": "text/x-python",
      "name": "python",
      "nbconvert_exporter": "python",
      "pygments_lexer": "ipython3",
      "version": "3.8"
    }
  },
  "nbformat_minor": 5,
  "nbformat": 4,
  "cells": [
    {
      "id": "4b627742-f7a0-4ff3-9c56-51ea916fcad9",
      "cell_type": "code",
      "source": "!pip install yfinance\n!pip install matplotlib\n\nimport yfinance as yf\nimport pandas as pd",
      "metadata": {
        "trusted": true
      },
      "outputs": [],
      "execution_count": null
    },
    {
      "id": "0430e301-61fc-4c07-954b-2030c5ed542f",
      "cell_type": "code",
      "source": "# Tassk 1 \n\n# Tesla\ntesla = yf.Ticker(\"TSLA\")\ntesla_data = tesla.history(period=\"1mo\")  # Letzter Monat\n\n# show data\nprint(\"Tesla Data:\")\nprint(tesla_data.head())\n",
      "metadata": {
        "trusted": true
      },
      "outputs": [],
      "execution_count": null
    },
    {
      "id": "828c06db-cbb1-4822-a55b-0656f4aa9b59",
      "cell_type": "code",
      "source": "# Task 2:\nimport requests\nfrom bs4 import BeautifulSoup\n\ndef scrape_revenue(ticker):\n    url = f\"https://www.macrotrends.net/stocks/charts/{ticker}/tesla/revenue\"\n    headers = {\"User-Agent\": \"Mozilla/5.0\"}\n    response = requests.get(url, headers=headers)\n    soup = BeautifulSoup(response.text, 'html.parser')\n\n    tables = soup.find_all(\"table\")\n    if not tables:\n        return \"Keine Tabelle gefunden\"\n\n    for table in tables:\n        if \"Revenue\" in table.text:\n            df = pd.read_html(str(table))[0]\n            return df\n    return \"Keine Revenue-Tabelle gefunden\"\n\ntesla_revenue = scrape_revenue(\"TSLA\")\nprint(tesla_revenue.head())",
      "metadata": {
        "trusted": true
      },
      "outputs": [],
      "execution_count": null
    },
    {
      "id": "a248afdb-758e-4880-bd6f-2180168e3e98",
      "cell_type": "code",
      "source": "# Tassk 3\n\n# GameStop\ngamestop = yf.Ticker(\"GME\")\ngamestop_data = gamestop.history(period=\"1mo\")\n\n# show data\nprint(\"GameStop Daten:\")\nprint(gamestop_data.head())",
      "metadata": {
        "trusted": true
      },
      "outputs": [],
      "execution_count": null
    },
    {
      "id": "b466f7a6-c491-4010-aa37-689364a55c7b",
      "cell_type": "code",
      "source": "# Task 4\nimport requests\nfrom bs4 import BeautifulSoup\n\ndef scrape_revenue(ticker):\n    url = f\"https://www.macrotrends.net/stocks/charts/{ticker}/tesla/revenue\"\n    headers = {\"User-Agent\": \"Mozilla/5.0\"}\n    response = requests.get(url, headers=headers)\n    soup = BeautifulSoup(response.text, 'html.parser')\n\n    tables = soup.find_all(\"table\")\n    if not tables:\n        return \"Keine Tabelle gefunden\"\n\n    for table in tables:\n        if \"Revenue\" in table.text:\n            df = pd.read_html(str(table))[0]\n            return df\n    return \"Keine Revenue-Tabelle gefunden\"\n\n# GameStop Umsatzdaten\ngamestop_revenue = scrape_revenue(\"GME\")\nprint(gamestop_revenue.head())\n",
      "metadata": {
        "trusted": true
      },
      "outputs": [],
      "execution_count": null
    },
    {
      "id": "2eba4a80-4f44-4656-b372-6fb1b2014a27",
      "cell_type": "code",
      "source": "# Task 5\nimport plotly.graph_objs as go\n\ndef plot_dashboard(price_data, revenue_data, company_name):\n    fig = go.Figure()\n    \n    # Aktienkurs\n    fig.add_trace(go.Scatter(x=price_data.index, y=price_data[\"Close\"],\n                             mode='lines', name='Aktienkurs'))\n\n    # Umsatzdaten (nur, wenn verfügbar)\n    if isinstance(revenue_data, pd.DataFrame) and 'Revenue' in revenue_data.columns:\n        fig.add_trace(go.Bar(x=revenue_data['Date'], y=revenue_data['Revenue'],\n                             name='Umsatz', yaxis='y2'))\n\n    fig.update_layout(\n        title=f'{company_name} Aktie & Umsatz',\n        xaxis_title='Datum',\n        yaxis=dict(title='Aktienkurs'),\n        yaxis2=dict(title='Umsatz', overlaying='y', side='right'),\n        legend=dict(x=0, y=1)\n    )\n    fig.show()\n\n\nplot_dashboard(tesla_data, tesla_revenue, \"Tesla\")\n",
      "metadata": {
        "trusted": true
      },
      "outputs": [],
      "execution_count": null
    },
    {
      "id": "81d7d742-5be9-4aaa-a518-82e820d2935e",
      "cell_type": "code",
      "source": "# Task 6\nimport plotly.graph_objs as go\n\ndef plot_dashboard(price_data, revenue_data, company_name):\n    fig = go.Figure()\n    \n    # Aktienkurs\n    fig.add_trace(go.Scatter(x=price_data.index, y=price_data[\"Close\"],\n                             mode='lines', name='Aktienkurs'))\n\n    # Umsatzdaten (nur, wenn verfügbar)\n    if isinstance(revenue_data, pd.DataFrame) and 'Revenue' in revenue_data.columns:\n        fig.add_trace(go.Bar(x=revenue_data['Date'], y=revenue_data['Revenue'],\n                             name='Umsatz', yaxis='y2'))\n\n    fig.update_layout(\n        title=f'{company_name} Aktie & Umsatz',\n        xaxis_title='Datum',\n        yaxis=dict(title='Aktienkurs'),\n        yaxis2=dict(title='Umsatz', overlaying='y', side='right'),\n        legend=dict(x=0, y=1)\n    )\n    fig.show()\n\n\nplot_dashboard(gamestop_data, gamestop_revenue, \"Gamestop\")\n",
      "metadata": {
        "trusted": true
      },
      "outputs": [],
      "execution_count": null
    }
  ]
}
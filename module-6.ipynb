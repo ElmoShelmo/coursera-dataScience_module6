{
  "metadata": {
    "kernelspec": {
      "name": "python",
      "display_name": "Python (Pyodide)",
      "language": "python"
    },
    "language_info": {
      "codemirror_mode": {
        "name": "python",
        "version": 3
      },
      "file_extension": ".py",
      "mimetype": "text/x-python",
      "name": "python",
      "nbconvert_exporter": "python",
      "pygments_lexer": "ipython3",
      "version": "3.8"
    }
  },
  "nbformat_minor": 5,
  "nbformat": 4,
  "cells": [
    {
      "id": "9f1f6c30-8cae-44e3-8c98-aa0b572e4c3d",
      "cell_type": "markdown",
      "source": "# My first title",
      "metadata": {}
    },
    {
      "id": "351ecca9-8dc6-443f-b19b-25e1ebeca41b",
      "cell_type": "markdown",
      "source": "## Description\nThis notebook is all about passing the module 6 of the coursera module \"open source tools for data science :)",
      "metadata": {}
    },
    {
      "id": "09121ce2-38aa-48e9-b7f3-c1cc98a5efa3",
      "cell_type": "markdown",
      "source": "## Languages of data science\n- python\n- R\n- sql",
      "metadata": {}
    },
    {
      "id": "46adf4ce-4e5a-42e0-af9d-7a49080c3ba9",
      "cell_type": "markdown",
      "source": "## Data science libraries\n- pandas\n- matplotlib\n- scikit",
      "metadata": {}
    },
    {
      "id": "9039034a-2e7b-4c17-abb5-737c104117f5",
      "cell_type": "markdown",
      "source": "## Data science tools\n| tool | link |\n|------|------|\n| jupyter notebook | https://jupyter.org/ |\n| anaconda | https://www.anaconda.com/ |\n| google colab | https://colab.google/ |",
      "metadata": {}
    },
    {
      "id": "3cb56cea-80f7-49ae-bd7f-bca77e167f6a",
      "cell_type": "markdown",
      "source": "## Arithmetic expressions\n\\begin{gather*}\na_1=b_1+c_1\\\\\na_2=b_2+c_2-d_2+e_2\n\\end{gather*}\n\n\\begin{align}\na_{11}& =b_{11}&\n  a_{12}& =b_{12}\\\\\na_{21}& =b_{21}&\n  a_{22}& =b_{22}+c_{22}\n\\end{align}",
      "metadata": {}
    },
    {
      "id": "9a842212-6906-4e75-b209-a5fff617e05c",
      "cell_type": "code",
      "source": "# and *\na = 5\nb = 10\nprint(a+b)\nprint(a*b)",
      "metadata": {
        "trusted": true
      },
      "outputs": [
        {
          "name": "stdout",
          "output_type": "stream",
          "text": "15\n50\n"
        }
      ],
      "execution_count": 4
    },
    {
      "id": "116a06cd-6253-456d-a031-9af04bdb25a7",
      "cell_type": "code",
      "source": "# minutes to hours\nminutes = 132\nhours = 60\nprint(str(minutes) + \" minutes are the same like \" +  str(minutes/hours) +\" hours.\")",
      "metadata": {
        "trusted": true
      },
      "outputs": [
        {
          "name": "stdout",
          "output_type": "stream",
          "text": "132 minutes are the same like 2.2 hours.\n"
        }
      ],
      "execution_count": 9
    },
    {
      "id": "849089e4-ce9b-4eca-b2db-c51ec8e106f3",
      "cell_type": "markdown",
      "source": "## Targets for data science\n\n- **Analyze data** to identify patterns and correlations\n- **Make predictions** using machine learning\n- **Support and optimize** data-based decisions\n",
      "metadata": {}
    },
    {
      "id": "1a909240-19c0-4a74-8782-90588197b0ff",
      "cell_type": "markdown",
      "source": "## Author\nFabian Schulz, beginner in data science :)",
      "metadata": {}
    },
    {
      "id": "b67329d3-f1bf-43f0-8011-7ed201c73cf8",
      "cell_type": "code",
      "source": "",
      "metadata": {
        "trusted": true
      },
      "outputs": [],
      "execution_count": null
    }
  ]
}